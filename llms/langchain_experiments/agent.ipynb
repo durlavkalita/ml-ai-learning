{
 "cells": [
  {
   "cell_type": "code",
   "execution_count": null,
   "id": "0ff36110",
   "metadata": {},
   "outputs": [],
   "source": [
    "from dotenv import load_dotenv\n",
    "import os\n",
    "\n",
    "load_dotenv()\n",
    "\n",
    "os.environ[\"LANGSMITH_TRACING\"] = \"true\""
   ]
  },
  {
   "cell_type": "code",
   "execution_count": 2,
   "id": "755d6d9d",
   "metadata": {},
   "outputs": [
    {
     "name": "stdout",
     "output_type": "stream",
     "text": [
      "{'query': 'What is the weather in Bangaluru', 'follow_up_questions': None, 'answer': None, 'images': [], 'results': [{'title': 'Weather in Bengaluru', 'url': 'https://www.weatherapi.com/', 'content': \"{'location': {'name': 'Bengaluru', 'region': 'Karnataka', 'country': 'India', 'lat': 12.9833, 'lon': 77.5833, 'tz_id': 'Asia/Kolkata', 'localtime_epoch': 1755236153, 'localtime': '2025-08-15 11:05'}, 'current': {'last_updated_epoch': 1755235800, 'last_updated': '2025-08-15 11:00', 'temp_c': 24.2, 'temp_f': 75.6, 'is_day': 1, 'condition': {'text': 'Partly cloudy', 'icon': '//cdn.weatherapi.com/weather/64x64/day/116.png', 'code': 1003}, 'wind_mph': 19.0, 'wind_kph': 30.6, 'wind_degree': 260, 'wind_dir': 'W', 'pressure_mb': 1012.0, 'pressure_in': 29.88, 'precip_mm': 0.09, 'precip_in': 0.0, 'humidity': 83, 'cloud': 75, 'feelslike_c': 25.7, 'feelslike_f': 78.3, 'windchill_c': 24.5, 'windchill_f': 76.1, 'heatindex_c': 26.0, 'heatindex_f': 78.7, 'dewpoint_c': 17.6, 'dewpoint_f': 63.6, 'vis_km': 8.0, 'vis_miles': 4.0, 'uv': 9.6, 'gust_mph': 22.1, 'gust_kph': 35.6}}\", 'score': 0.9577691, 'raw_content': None}, {'url': 'https://timesofindia.indiatimes.com/weather/bengaluru-weather-forecast-today/560001', 'title': 'Bengaluru Weather Forecast 15 Aug 2025', 'content': \"Today's Weather in Bengaluru: In Bengaluru today, the weather is expected to be Mostly Cloudy with a maximum temperature of 25°C and a minimum of 20°C.\", 'score': 0.95744133, 'raw_content': None}], 'response_time': 1.92, 'request_id': '3189d49c-91e9-4f58-82c3-c4f10ea72da4'}\n"
     ]
    }
   ],
   "source": [
    "# define tools\n",
    "\n",
    "from langchain_tavily import TavilySearch\n",
    "\n",
    "search = TavilySearch(max_results=2)\n",
    "search_results = search.invoke(\"What is the weather in Bangaluru\")\n",
    "print(search_results)\n",
    "\n",
    "# other tools after creation must be put in a list for reference\n",
    "tools = [search]"
   ]
  },
  {
   "cell_type": "code",
   "execution_count": 3,
   "id": "a6b332d2",
   "metadata": {},
   "outputs": [],
   "source": [
    "# using llm to call the tool\n",
    "from langchain.chat_models import init_chat_model\n",
    "\n",
    "model = init_chat_model(\"gemini-2.5-flash\", model_provider=\"google_genai\")"
   ]
  },
  {
   "cell_type": "code",
   "execution_count": 5,
   "id": "1663844a",
   "metadata": {},
   "outputs": [],
   "source": [
    "# mind model with tools\n",
    "model_with_tools = model.bind_tools(tools)"
   ]
  },
  {
   "cell_type": "code",
   "execution_count": 6,
   "id": "9da542c3",
   "metadata": {},
   "outputs": [
    {
     "name": "stdout",
     "output_type": "stream",
     "text": [
      "Message content: Hello! How can I help you today?\n",
      "\n",
      "Tool calls: []\n"
     ]
    }
   ],
   "source": [
    "query = \"hi\"\n",
    "response = model_with_tools.invoke([{\"role\": \"user\", \"content\": query}])\n",
    "\n",
    "print(f\"Message content: {response.text()}\\n\")\n",
    "print(f\"Tool calls: {response.tool_calls}\")"
   ]
  },
  {
   "cell_type": "code",
   "execution_count": 7,
   "id": "7f69c7e2",
   "metadata": {},
   "outputs": [
    {
     "name": "stdout",
     "output_type": "stream",
     "text": [
      "Message content: \n",
      "\n",
      "Tool calls: [{'name': 'tavily_search', 'args': {'query': 'weather in Bengaluru'}, 'id': '941c8b79-55e0-40e0-8a68-5bd24a0b25b3', 'type': 'tool_call'}]\n"
     ]
    }
   ],
   "source": [
    "query = \"Search for the weather in Bengaluru\"\n",
    "response = model_with_tools.invoke([{\"role\": \"user\", \"content\": query}])\n",
    "\n",
    "print(f\"Message content: {response.text()}\\n\")\n",
    "print(f\"Tool calls: {response.tool_calls}\")"
   ]
  },
  {
   "cell_type": "code",
   "execution_count": 15,
   "id": "862d9fdb",
   "metadata": {},
   "outputs": [],
   "source": [
    "from langgraph.prebuilt import create_react_agent\n",
    "\n",
    "agent_executor = create_react_agent(model, tools) # bind_tools will be called under the hood"
   ]
  },
  {
   "cell_type": "code",
   "execution_count": 9,
   "id": "8595491a",
   "metadata": {},
   "outputs": [
    {
     "name": "stdout",
     "output_type": "stream",
     "text": [
      "================================\u001b[1m Human Message \u001b[0m=================================\n",
      "\n",
      "hi!\n",
      "==================================\u001b[1m Ai Message \u001b[0m==================================\n",
      "\n",
      "Hello! How can I help you today?\n"
     ]
    }
   ],
   "source": [
    "input_message = {\"role\": \"user\", \"content\": \"hi!\"}\n",
    "response = agent_executor.invoke({\"messages\": [input_message]})\n",
    "\n",
    "for message in response[\"messages\"]:\n",
    "    message.pretty_print()"
   ]
  },
  {
   "cell_type": "code",
   "execution_count": 10,
   "id": "d9707de8",
   "metadata": {},
   "outputs": [
    {
     "name": "stdout",
     "output_type": "stream",
     "text": [
      "================================\u001b[1m Human Message \u001b[0m=================================\n",
      "\n",
      "whats the weather in Bengaluru\n",
      "==================================\u001b[1m Ai Message \u001b[0m==================================\n",
      "Tool Calls:\n",
      "  tavily_search (a76c314d-2042-4109-bb67-5f77c17fdf73)\n",
      " Call ID: a76c314d-2042-4109-bb67-5f77c17fdf73\n",
      "  Args:\n",
      "    query: weather in Bengaluru\n",
      "=================================\u001b[1m Tool Message \u001b[0m=================================\n",
      "Name: tavily_search\n",
      "\n",
      "{\"query\": \"weather in Bengaluru\", \"follow_up_questions\": null, \"answer\": null, \"images\": [], \"results\": [{\"title\": \"Weather in Bengaluru\", \"url\": \"https://www.weatherapi.com/\", \"content\": \"{'location': {'name': 'Bengaluru', 'region': 'Karnataka', 'country': 'India', 'lat': 12.9833, 'lon': 77.5833, 'tz_id': 'Asia/Kolkata', 'localtime_epoch': 1755237291, 'localtime': '2025-08-15 11:24'}, 'current': {'last_updated_epoch': 1755236700, 'last_updated': '2025-08-15 11:15', 'temp_c': 25.1, 'temp_f': 77.2, 'is_day': 1, 'condition': {'text': 'Partly cloudy', 'icon': '//cdn.weatherapi.com/weather/64x64/day/116.png', 'code': 1003}, 'wind_mph': 19.0, 'wind_kph': 30.6, 'wind_degree': 260, 'wind_dir': 'W', 'pressure_mb': 1012.0, 'pressure_in': 29.88, 'precip_mm': 0.09, 'precip_in': 0.0, 'humidity': 79, 'cloud': 75, 'feelslike_c': 26.5, 'feelslike_f': 79.7, 'windchill_c': 24.5, 'windchill_f': 76.1, 'heatindex_c': 26.0, 'heatindex_f': 78.7, 'dewpoint_c': 17.6, 'dewpoint_f': 63.6, 'vis_km': 8.0, 'vis_miles': 4.0, 'uv': 9.6, 'gust_mph': 22.1, 'gust_kph': 35.6}}\", \"score\": 0.9978044, \"raw_content\": null}, {\"url\": \"https://wisemeteo.com/en/country/india/region/karnataka/city/bengaluru/date/08-15\", \"title\": \"Bengaluru, Karnataka - weather outlook for 15 August 2025\", \"content\": \"Bengaluru, Karnataka - weather forecast for 15 August 2025 ; 3:00 ; 66° ; Probability of precipitation. 10% ; Wind. 14 mph W ; Cloud cover (points). 100.\", \"score\": 0.96437865, \"raw_content\": null}], \"response_time\": 2.92, \"request_id\": \"b94df247-f1bb-4745-a4a5-74f4d3779877\"}\n",
      "==================================\u001b[1m Ai Message \u001b[0m==================================\n",
      "\n",
      "The weather in Bengaluru on 2025-08-15 at 11:15 AM is partly cloudy with a temperature of 25.1°C (77.2°F). It feels like 26.5°C (79.7°F). The wind is blowing from the West at 30.6 kph (19.0 mph), and the humidity is 79%.\n"
     ]
    }
   ],
   "source": [
    "input_message = {\"role\": \"user\", \"content\": \"whats the weather in Bengaluru\"}\n",
    "response = agent_executor.invoke({\"messages\": [input_message]})\n",
    "\n",
    "for message in response[\"messages\"]:\n",
    "    message.pretty_print()"
   ]
  },
  {
   "cell_type": "code",
   "execution_count": 13,
   "id": "a0a8514c",
   "metadata": {},
   "outputs": [
    {
     "name": "stdout",
     "output_type": "stream",
     "text": [
      "================================\u001b[1m Human Message \u001b[0m=================================\n",
      "\n",
      "whats the weather in Bengaluru\n",
      "==================================\u001b[1m Ai Message \u001b[0m==================================\n",
      "Tool Calls:\n",
      "  tavily_search (90388137-56bb-4317-ae5c-c5e2b023b5ec)\n",
      " Call ID: 90388137-56bb-4317-ae5c-c5e2b023b5ec\n",
      "  Args:\n",
      "    query: weather in Bengaluru\n",
      "=================================\u001b[1m Tool Message \u001b[0m=================================\n",
      "Name: tavily_search\n",
      "\n",
      "{\"query\": \"weather in Bengaluru\", \"follow_up_questions\": null, \"answer\": null, \"images\": [], \"results\": [{\"title\": \"Weather in Bengaluru\", \"url\": \"https://www.weatherapi.com/\", \"content\": \"{'location': {'name': 'Bengaluru', 'region': 'Karnataka', 'country': 'India', 'lat': 12.9833, 'lon': 77.5833, 'tz_id': 'Asia/Kolkata', 'localtime_epoch': 1755237291, 'localtime': '2025-08-15 11:24'}, 'current': {'last_updated_epoch': 1755236700, 'last_updated': '2025-08-15 11:15', 'temp_c': 25.1, 'temp_f': 77.2, 'is_day': 1, 'condition': {'text': 'Partly cloudy', 'icon': '//cdn.weatherapi.com/weather/64x64/day/116.png', 'code': 1003}, 'wind_mph': 19.0, 'wind_kph': 30.6, 'wind_degree': 260, 'wind_dir': 'W', 'pressure_mb': 1012.0, 'pressure_in': 29.88, 'precip_mm': 0.09, 'precip_in': 0.0, 'humidity': 79, 'cloud': 75, 'feelslike_c': 26.5, 'feelslike_f': 79.7, 'windchill_c': 24.5, 'windchill_f': 76.1, 'heatindex_c': 26.0, 'heatindex_f': 78.7, 'dewpoint_c': 17.6, 'dewpoint_f': 63.6, 'vis_km': 8.0, 'vis_miles': 4.0, 'uv': 9.6, 'gust_mph': 22.1, 'gust_kph': 35.6}}\", \"score\": 0.9978044, \"raw_content\": null}, {\"url\": \"https://wisemeteo.com/en/country/india/region/karnataka/city/bengaluru/date/08-15\", \"title\": \"Bengaluru, Karnataka - weather outlook for 15 August 2025\", \"content\": \"Bengaluru, Karnataka - weather forecast for 15 August 2025 ; 3:00 ; 66° ; Probability of precipitation. 10% ; Wind. 14 mph W ; Cloud cover (points). 100.\", \"score\": 0.96437865, \"raw_content\": null}], \"response_time\": 0.75, \"request_id\": \"bc5d2bc9-8e88-481b-abfc-3a7a0be2e925\"}\n",
      "==================================\u001b[1m Ai Message \u001b[0m==================================\n",
      "\n",
      "The weather in Bengaluru on 2025-08-15 11:24 is forecast to be partly cloudy with a temperature of 25.1°C. The wind speed will be 30.6 kph and humidity will be 79%.\n"
     ]
    }
   ],
   "source": [
    "for step in agent_executor.stream({\"messages\": [input_message]}, stream_mode=\"values\"):\n",
    "    step[\"messages\"][-1].pretty_print()"
   ]
  },
  {
   "cell_type": "code",
   "execution_count": 16,
   "id": "2104b5b1",
   "metadata": {},
   "outputs": [
    {
     "name": "stdout",
     "output_type": "stream",
     "text": [
      "The weather in Bengaluru on 2025-08-15 11:24 is partly cloudy with a temperature of 25.1°C (77.2°F). The wind speed is |30.6 kph and the humidity is 79%.|"
     ]
    }
   ],
   "source": [
    "for step, metadata in agent_executor.stream(\n",
    "    {\"messages\": [input_message]}, stream_mode=\"messages\"\n",
    "):\n",
    "    if metadata[\"langgraph_node\"] == \"agent\" and (text := step.text()):\n",
    "        print(text, end=\"|\")"
   ]
  },
  {
   "cell_type": "code",
   "execution_count": null,
   "id": "3bcd5688",
   "metadata": {},
   "outputs": [],
   "source": [
    "# adding memory\n",
    "from langgraph.checkpoint.memory import MemorySaver\n",
    "\n",
    "memory = MemorySaver()"
   ]
  },
  {
   "cell_type": "code",
   "execution_count": 30,
   "id": "b021a480",
   "metadata": {},
   "outputs": [],
   "source": [
    "agent_executor = create_react_agent(model,tools, checkpointer=memory)\n",
    "\n",
    "config = {\"configurable\": {\"thread_id\": \"abc123\"}}"
   ]
  },
  {
   "cell_type": "code",
   "execution_count": 31,
   "id": "67137821",
   "metadata": {},
   "outputs": [
    {
     "name": "stdout",
     "output_type": "stream",
     "text": [
      "================================\u001b[1m Human Message \u001b[0m=================================\n",
      "\n",
      "Hi, I'm Durlav!\n",
      "==================================\u001b[1m Ai Message \u001b[0m==================================\n",
      "\n",
      "Hello Durlav! How can I help you today?\n"
     ]
    }
   ],
   "source": [
    "input_message = {\"role\": \"user\", \"content\": \"Hi, I'm Durlav!\"}\n",
    "for step in agent_executor.stream(\n",
    "    {\"messages\": [input_message]}, config, stream_mode=\"values\"\n",
    "):\n",
    "    step[\"messages\"][-1].pretty_print()"
   ]
  },
  {
   "cell_type": "code",
   "execution_count": 32,
   "id": "49455951",
   "metadata": {},
   "outputs": [
    {
     "name": "stdout",
     "output_type": "stream",
     "text": [
      "================================\u001b[1m Human Message \u001b[0m=================================\n",
      "\n",
      "What's my name?\n",
      "==================================\u001b[1m Ai Message \u001b[0m==================================\n",
      "\n",
      "I'm sorry, I don't have memory of past conversations. Could you please tell me your name again?\n"
     ]
    }
   ],
   "source": [
    "input_message = {\"role\": \"user\", \"content\": \"What's my name?\"}\n",
    "for step in agent_executor.stream(\n",
    "    {\"messages\": [input_message]}, config, stream_mode=\"values\"\n",
    "):\n",
    "    step[\"messages\"][-1].pretty_print()"
   ]
  },
  {
   "cell_type": "code",
   "execution_count": null,
   "id": "5febf618",
   "metadata": {},
   "outputs": [],
   "source": []
  }
 ],
 "metadata": {
  "kernelspec": {
   "display_name": "venv",
   "language": "python",
   "name": "python3"
  },
  "language_info": {
   "codemirror_mode": {
    "name": "ipython",
    "version": 3
   },
   "file_extension": ".py",
   "mimetype": "text/x-python",
   "name": "python",
   "nbconvert_exporter": "python",
   "pygments_lexer": "ipython3",
   "version": "3.13.2"
  }
 },
 "nbformat": 4,
 "nbformat_minor": 5
}
