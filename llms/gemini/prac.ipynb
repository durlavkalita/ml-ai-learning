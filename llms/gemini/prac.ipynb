{
 "cells": [
  {
   "cell_type": "code",
   "execution_count": 4,
   "id": "7bb72283",
   "metadata": {},
   "outputs": [],
   "source": [
    "from google import genai\n",
    "from google.genai import types"
   ]
  },
  {
   "cell_type": "code",
   "execution_count": 2,
   "id": "0d9f0673",
   "metadata": {},
   "outputs": [],
   "source": [
    "#if GEMINI_API_KEY not set in .env it has to be provided here\n",
    "client = genai.Client()"
   ]
  },
  {
   "cell_type": "code",
   "execution_count": null,
   "id": "7d51bd39",
   "metadata": {},
   "outputs": [
    {
     "name": "stdout",
     "output_type": "stream",
     "text": [
      "1.  AI learns by finding patterns and relationships in vast amounts of data.\n",
      "2.  It uses these learned patterns to build a model or make decisions.\n",
      "3.  This allows it to perform tasks, solve problems, or make predictions.\n"
     ]
    }
   ],
   "source": [
    "response = client.models.generate_content(\n",
    "  model='gemini-2.5-flash', \n",
    "  contents = 'Explain how AI works in 3 lines',\n",
    "  config=types.GenerateContentConfig(\n",
    "    thinking_config=types.ThinkingConfig(thinking_budget=0) # disable thinking for budget\n",
    "  )\n",
    ")\n",
    "print(response.text)"
   ]
  },
  {
   "cell_type": "code",
   "execution_count": null,
   "id": "5f6e7846",
   "metadata": {},
   "outputs": [],
   "source": []
  }
 ],
 "metadata": {
  "kernelspec": {
   "display_name": "venv",
   "language": "python",
   "name": "python3"
  },
  "language_info": {
   "codemirror_mode": {
    "name": "ipython",
    "version": 3
   },
   "file_extension": ".py",
   "mimetype": "text/x-python",
   "name": "python",
   "nbconvert_exporter": "python",
   "pygments_lexer": "ipython3",
   "version": "3.13.2"
  }
 },
 "nbformat": 4,
 "nbformat_minor": 5
}
